{
 "cells": [
  {
   "cell_type": "code",
   "execution_count": null,
   "id": "02d69203",
   "metadata": {},
   "outputs": [],
   "source": [
    "import os\n",
    "import itertools\n",
    "\n",
    "import pandas as pd\n",
    "import numpy as np\n",
    "\n",
    "\n",
    "from sklearn.model_selection import GridSearchCV\n",
    "from sklearn.linear_model import LogisticRegression\n",
    "from sklearn.pipeline import Pipeline\n",
    "from sklearn.preprocessing import MinMaxScaler\n",
    "\n",
    "from rkcompetition.utils.data_preprocessing import *"
   ]
  },
  {
   "cell_type": "code",
   "execution_count": null,
   "id": "fc1ff20b",
   "metadata": {},
   "outputs": [],
   "source": [
    "def get_dict_combinations(dictionary):\n",
    "    keys, values = zip(*params.items())\n",
    "    permutations_dicts = [dict(zip(keys, v)) for v in itertools.product(*values)]\n",
    "    return permutations_dicts\n",
    "\n",
    "\n",
    "def finetune_embeddings(df, params):\n",
    "    results = pd.DataFrame(columns = ['embedding_components', 'n_clusters', 'outlier_strength', 'min_number_of_clicks_for_user', 'perplexity', 'f1'])\n",
    "\n",
    "    params_combinations = get_dict_combinations(params)\n",
    "    df = outer_actions_long\n",
    "\n",
    "    for param in params_combinations:\n",
    "        transformed_data = transform_event_to_cluster(df, **param)\n",
    "        # merge data to obtain dataset\n",
    "        transformed_data = transformed_data.merge(train, left_index = True, right_on = 'contract_id', how = 'left')\n",
    "        transformed_data = transformed_data.loc[transformed_data.blocked >= 0]\n",
    "        transformed_data = transformed_data.drop(['contract_id'], axis = 1)\n",
    "        transformed_data.columns = [str(col) for col in transformed_data.columns]\n",
    "        # dataset\n",
    "        y = transformed_data.pop('blocked')\n",
    "        x = transformed_data\n",
    "\n",
    "\n",
    "        lr = LogisticRegression(max_iter=10000, class_weight = 'balanced', C = 0.5)\n",
    "\n",
    "        scaler = MinMaxScaler()\n",
    "\n",
    "        pipe = Pipeline(steps=[(\"scaler\", scaler), (\"logistic\", lr)])\n",
    "\n",
    "        clf = GridSearchCV(pipe, {},  scoring = 'f1_macro')\n",
    "        clf.fit(x, y)\n",
    "\n",
    "        res = {k:v for k,v in param.items()}\n",
    "        res['f1'] = clf.best_score_\n",
    "        results = results.append(res, True)\n",
    "        \n",
    "    return results"
   ]
  },
  {
   "cell_type": "code",
   "execution_count": null,
   "id": "63bc7f57",
   "metadata": {},
   "outputs": [],
   "source": [
    "inner_actions, outer_actions, type_contract, train, sample, outer_actions_in_train = read_raw_data('../data/raw/')"
   ]
  },
  {
   "cell_type": "code",
   "execution_count": null,
   "id": "ac459923",
   "metadata": {},
   "outputs": [],
   "source": [
    "# take url only that used in dataset\n",
    "outer_actions = outer_actions.loc[outer_actions.event_type.isin(outer_actions_in_train.event_type)]\n",
    "outer_actions_long = long_to_wide(outer_actions)\n"
   ]
  },
  {
   "cell_type": "code",
   "execution_count": null,
   "id": "795465c1",
   "metadata": {},
   "outputs": [],
   "source": [
    "params = {\n",
    "    'embedding_components': np.arange(2, 6),\n",
    "    'n_clusters': np.arange(10, 30, 5),\n",
    "    'outlier_strength': [0, 0.1, 0.15],\n",
    "    'min_number_of_clicks_for_user': [100, 150, 200],\n",
    "    'perplexity': [3, 5, 7, 10],\n",
    "}\n",
    "\n",
    "optimization = 'inner'\n",
    "\n",
    "if optimization == 'outer':\n",
    "    df = outer_actions_in_train\n",
    "    second_df = outer_actions\n",
    "else:\n",
    "    df = inner_actions\n",
    "    second_df = None\n",
    "\n",
    "finetune_embeddings(outer_actions_long, params)"
   ]
  }
 ],
 "metadata": {
  "kernelspec": {
   "display_name": "Python 3",
   "language": "python",
   "name": "python3"
  },
  "language_info": {
   "codemirror_mode": {
    "name": "ipython",
    "version": 3
   },
   "file_extension": ".py",
   "mimetype": "text/x-python",
   "name": "python",
   "nbconvert_exporter": "python",
   "pygments_lexer": "ipython3",
   "version": "3.8.3"
  }
 },
 "nbformat": 4,
 "nbformat_minor": 5
}
