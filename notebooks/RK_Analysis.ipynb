{
 "cells": [
  {
   "cell_type": "code",
   "execution_count": 1,
   "metadata": {
    "id": "uhsTxZPxqcNM"
   },
   "outputs": [],
   "source": [
    "import pandas as pd\n",
    "import numpy as np\n",
    "import seaborn as sns\n",
    "import matplotlib.pyplot as plt\n",
    "import os\n",
    "\n",
    "from rkcompetition.utils.data_preprocessing import *"
   ]
  },
  {
   "cell_type": "code",
   "execution_count": 2,
   "metadata": {
    "id": "Kls1jJ1xqgTF"
   },
   "outputs": [
    {
     "name": "stderr",
     "output_type": "stream",
     "text": [
      "c:\\users\\monset\\appdata\\local\\programs\\python\\python38\\lib\\site-packages\\pandas\\core\\generic.py:5494: SettingWithCopyWarning: \n",
      "A value is trying to be set on a copy of a slice from a DataFrame.\n",
      "Try using .loc[row_indexer,col_indexer] = value instead\n",
      "\n",
      "See the caveats in the documentation: https://pandas.pydata.org/pandas-docs/stable/user_guide/indexing.html#returning-a-view-versus-a-copy\n",
      "  self[name] = value\n"
     ]
    }
   ],
   "source": [
    "inner_actions, outer_actions, type_contract, train, sample, outer_actions_in_train = read_raw_data('../data/raw/')\n",
    "\n",
    "inner_actions.event_date = pd.to_datetime(inner_actions.event_date)\n",
    "outer_actions.event_date = pd.to_datetime(outer_actions.event_date)\n",
    "outer_actions_in_train.event_date = pd.to_datetime(outer_actions_in_train.event_date)\n",
    "\n",
    "# для анализа\n",
    "train = train.loc[train.blocked >= 0]"
   ]
  },
  {
   "cell_type": "markdown",
   "metadata": {
    "id": "kj3sOfalrnKd"
   },
   "source": [
    "# Изучаем логи"
   ]
  },
  {
   "cell_type": "code",
   "execution_count": 3,
   "metadata": {
    "colab": {
     "base_uri": "https://localhost:8080/",
     "height": 424
    },
    "id": "NsHfvZkErqAd",
    "outputId": "5eff6c13-6f91-4254-f4f0-a57b116888d1"
   },
   "outputs": [
    {
     "data": {
      "text/html": [
       "<div>\n",
       "<style scoped>\n",
       "    .dataframe tbody tr th:only-of-type {\n",
       "        vertical-align: middle;\n",
       "    }\n",
       "\n",
       "    .dataframe tbody tr th {\n",
       "        vertical-align: top;\n",
       "    }\n",
       "\n",
       "    .dataframe thead th {\n",
       "        text-align: right;\n",
       "    }\n",
       "</style>\n",
       "<table border=\"1\" class=\"dataframe\">\n",
       "  <thead>\n",
       "    <tr style=\"text-align: right;\">\n",
       "      <th></th>\n",
       "      <th>contract_id</th>\n",
       "      <th>event_date</th>\n",
       "      <th>event_type</th>\n",
       "    </tr>\n",
       "  </thead>\n",
       "  <tbody>\n",
       "    <tr>\n",
       "      <th>0</th>\n",
       "      <td>36294</td>\n",
       "      <td>2021-03-28 16:24:30</td>\n",
       "      <td>Добавление в Обращались с номеров</td>\n",
       "    </tr>\n",
       "    <tr>\n",
       "      <th>1</th>\n",
       "      <td>36294</td>\n",
       "      <td>2021-03-28 16:27:41</td>\n",
       "      <td>Обращение в службу заботы о клиентах</td>\n",
       "    </tr>\n",
       "    <tr>\n",
       "      <th>2</th>\n",
       "      <td>36294</td>\n",
       "      <td>2021-03-28 16:29:56</td>\n",
       "      <td>Выключение IPTV-пакета</td>\n",
       "    </tr>\n",
       "    <tr>\n",
       "      <th>3</th>\n",
       "      <td>36294</td>\n",
       "      <td>2021-03-28 16:29:56</td>\n",
       "      <td>Включение IPTV-пакета</td>\n",
       "    </tr>\n",
       "    <tr>\n",
       "      <th>4</th>\n",
       "      <td>36294</td>\n",
       "      <td>2021-03-28 16:35:04</td>\n",
       "      <td>Обращение в службу заботы о клиентах</td>\n",
       "    </tr>\n",
       "    <tr>\n",
       "      <th>...</th>\n",
       "      <td>...</td>\n",
       "      <td>...</td>\n",
       "      <td>...</td>\n",
       "    </tr>\n",
       "    <tr>\n",
       "      <th>25269</th>\n",
       "      <td>11801</td>\n",
       "      <td>2021-04-29 07:50:44</td>\n",
       "      <td>Информер ВК. Показ</td>\n",
       "    </tr>\n",
       "    <tr>\n",
       "      <th>25270</th>\n",
       "      <td>54405</td>\n",
       "      <td>2021-03-17 10:38:42</td>\n",
       "      <td>Информер ВК. Показ</td>\n",
       "    </tr>\n",
       "    <tr>\n",
       "      <th>25271</th>\n",
       "      <td>54405</td>\n",
       "      <td>2021-03-23 08:21:29</td>\n",
       "      <td>Информер ВК. Показ</td>\n",
       "    </tr>\n",
       "    <tr>\n",
       "      <th>25272</th>\n",
       "      <td>54405</td>\n",
       "      <td>2021-04-09 13:04:26</td>\n",
       "      <td>Информер ВК. Показ</td>\n",
       "    </tr>\n",
       "    <tr>\n",
       "      <th>25273</th>\n",
       "      <td>54405</td>\n",
       "      <td>2021-04-29 19:29:29</td>\n",
       "      <td>Информер ВК. Показ</td>\n",
       "    </tr>\n",
       "  </tbody>\n",
       "</table>\n",
       "<p>25199 rows × 3 columns</p>\n",
       "</div>"
      ],
      "text/plain": [
       "       contract_id          event_date                            event_type\n",
       "0            36294 2021-03-28 16:24:30     Добавление в Обращались с номеров\n",
       "1            36294 2021-03-28 16:27:41  Обращение в службу заботы о клиентах\n",
       "2            36294 2021-03-28 16:29:56                Выключение IPTV-пакета\n",
       "3            36294 2021-03-28 16:29:56                 Включение IPTV-пакета\n",
       "4            36294 2021-03-28 16:35:04  Обращение в службу заботы о клиентах\n",
       "...            ...                 ...                                   ...\n",
       "25269        11801 2021-04-29 07:50:44                    Информер ВК. Показ\n",
       "25270        54405 2021-03-17 10:38:42                    Информер ВК. Показ\n",
       "25271        54405 2021-03-23 08:21:29                    Информер ВК. Показ\n",
       "25272        54405 2021-04-09 13:04:26                    Информер ВК. Показ\n",
       "25273        54405 2021-04-29 19:29:29                    Информер ВК. Показ\n",
       "\n",
       "[25199 rows x 3 columns]"
      ]
     },
     "execution_count": 3,
     "metadata": {},
     "output_type": "execute_result"
    }
   ],
   "source": [
    "inner_actions"
   ]
  },
  {
   "cell_type": "markdown",
   "metadata": {},
   "source": [
    "В логах содержится внутренние ивенты. Информации не особо много, но стоит посмотреть на количество уникальных значений и их распределение"
   ]
  },
  {
   "cell_type": "code",
   "execution_count": 4,
   "metadata": {
    "colab": {
     "base_uri": "https://localhost:8080/"
    },
    "id": "sjkJ5OiTrsHH",
    "outputId": "1857c3de-9d1c-4ade-e007-69f06f2fd587"
   },
   "outputs": [
    {
     "data": {
      "text/plain": [
       "((4311,), (83,))"
      ]
     },
     "execution_count": 4,
     "metadata": {},
     "output_type": "execute_result"
    }
   ],
   "source": [
    "np.unique(inner_actions.contract_id).shape, np.unique(inner_actions.event_type).shape"
   ]
  },
  {
   "cell_type": "code",
   "execution_count": 5,
   "metadata": {
    "colab": {
     "base_uri": "https://localhost:8080/"
    },
    "id": "LjCDwezBr6z_",
    "outputId": "ce9db60a-008a-465d-c0f8-ccb559acdcb1"
   },
   "outputs": [
    {
     "data": {
      "text/html": [
       "<div>\n",
       "<style scoped>\n",
       "    .dataframe tbody tr th:only-of-type {\n",
       "        vertical-align: middle;\n",
       "    }\n",
       "\n",
       "    .dataframe tbody tr th {\n",
       "        vertical-align: top;\n",
       "    }\n",
       "\n",
       "    .dataframe thead th {\n",
       "        text-align: right;\n",
       "    }\n",
       "</style>\n",
       "<table border=\"1\" class=\"dataframe\">\n",
       "  <thead>\n",
       "    <tr style=\"text-align: right;\">\n",
       "      <th></th>\n",
       "      <th>Количество событий</th>\n",
       "    </tr>\n",
       "  </thead>\n",
       "  <tbody>\n",
       "    <tr>\n",
       "      <th>Информер ВК. Показ</th>\n",
       "      <td>8001</td>\n",
       "    </tr>\n",
       "    <tr>\n",
       "      <th>Включение интернета на 20 минут</th>\n",
       "      <td>4092</td>\n",
       "    </tr>\n",
       "    <tr>\n",
       "      <th>Обращение в службу заботы о клиентах</th>\n",
       "      <td>2860</td>\n",
       "    </tr>\n",
       "    <tr>\n",
       "      <th>Гарантированный платеж за деньги</th>\n",
       "      <td>2679</td>\n",
       "    </tr>\n",
       "    <tr>\n",
       "      <th>Виртуальное бессмертие. Использование</th>\n",
       "      <td>757</td>\n",
       "    </tr>\n",
       "    <tr>\n",
       "      <th>...</th>\n",
       "      <td>...</td>\n",
       "    </tr>\n",
       "    <tr>\n",
       "      <th>Предложение расширенной гарантии на ТВ приставку</th>\n",
       "      <td>3</td>\n",
       "    </tr>\n",
       "    <tr>\n",
       "      <th>Чек лист выполненных работ при регистрации</th>\n",
       "      <td>3</td>\n",
       "    </tr>\n",
       "    <tr>\n",
       "      <th>Удаление ip-адреса</th>\n",
       "      <td>2</td>\n",
       "    </tr>\n",
       "    <tr>\n",
       "      <th>Футболка Ситилинк</th>\n",
       "      <td>1</td>\n",
       "    </tr>\n",
       "    <tr>\n",
       "      <th>Разблокировка</th>\n",
       "      <td>1</td>\n",
       "    </tr>\n",
       "  </tbody>\n",
       "</table>\n",
       "<p>83 rows × 1 columns</p>\n",
       "</div>"
      ],
      "text/plain": [
       "                                                  Количество событий\n",
       "Информер ВК. Показ                                              8001\n",
       "Включение интернета на 20 минут                                 4092\n",
       "Обращение в службу заботы о клиентах                            2860\n",
       "Гарантированный платеж за деньги                                2679\n",
       "Виртуальное бессмертие. Использование                            757\n",
       "...                                                              ...\n",
       "Предложение расширенной гарантии на ТВ приставку                   3\n",
       "Чек лист выполненных работ при регистрации                         3\n",
       "Удаление ip-адреса                                                 2\n",
       "Футболка Ситилинк                                                  1\n",
       "Разблокировка                                                      1\n",
       "\n",
       "[83 rows x 1 columns]"
      ]
     },
     "execution_count": 5,
     "metadata": {},
     "output_type": "execute_result"
    }
   ],
   "source": [
    "pd.DataFrame(inner_actions.event_type.value_counts().rename('Количество событий'))"
   ]
  },
  {
   "cell_type": "markdown",
   "metadata": {},
   "source": [
    "Некоторые ивенты встречаются чаще других. Плюс есть схожие (например, подарок в лк) - возможно, стоит их объединить в один."
   ]
  },
  {
   "cell_type": "code",
   "execution_count": 6,
   "metadata": {
    "id": "YRAVBtnRsk5L"
   },
   "outputs": [],
   "source": [
    "inner_actions['val'] = 1\n",
    "pivot = pd.pivot_table(inner_actions, index = ['contract_id'], columns = 'event_type', values = 'val')"
   ]
  },
  {
   "cell_type": "code",
   "execution_count": 7,
   "metadata": {
    "colab": {
     "base_uri": "https://localhost:8080/",
     "height": 334
    },
    "id": "L1P0b7wCtLQq",
    "outputId": "24ab0540-d018-4f3f-8ddc-00a59993d529"
   },
   "outputs": [
    {
     "data": {
      "text/plain": [
       "(array([1622., 1033.,  626.,  380.,  243.,  139.,   90.,   64.,   34.,\n",
       "          24.,   20.,   11.,   10.,    7.,    4.,    4.]),\n",
       " array([ 1,  2,  3,  4,  5,  6,  7,  8,  9, 10, 11, 12, 13, 14, 15, 16, 17]),\n",
       " <a list of 16 Patch objects>)"
      ]
     },
     "execution_count": 7,
     "metadata": {},
     "output_type": "execute_result"
    },
    {
     "data": {
      "image/png": "[encoded data removed]",
      "text/plain": [
       "<Figure size 432x288 with 1 Axes>"
      ]
     },
     "metadata": {
      "needs_background": "light"
     },
     "output_type": "display_data"
    }
   ],
   "source": [
    "plt.hist(pivot.sum(axis = 1).sort_values(), bins = np.arange(1, 18))"
   ]
  },
  {
   "cell_type": "markdown",
   "metadata": {},
   "source": [
    "Количество действий на пользователя быстро убывает"
   ]
  },
  {
   "cell_type": "code",
   "execution_count": 8,
   "metadata": {
    "colab": {
     "base_uri": "https://localhost:8080/",
     "height": 282
    },
    "id": "SkCdsho5vqkR",
    "outputId": "acc7394b-d311-4b9e-abfc-461ea631c86a"
   },
   "outputs": [
    {
     "data": {
      "text/plain": [
       "<matplotlib.axes._subplots.AxesSubplot at 0x22b070b4c10>"
      ]
     },
     "execution_count": 8,
     "metadata": {},
     "output_type": "execute_result"
    },
    {
     "data": {
      "image/png": "[encoded data removed]",
      "text/plain": [
       "<Figure size 432x288 with 1 Axes>"
      ]
     },
     "metadata": {
      "needs_background": "light"
     },
     "output_type": "display_data"
    }
   ],
   "source": [
    "inner_actions.event_date.dt.day_of_year.hist()"
   ]
  },
  {
   "cell_type": "markdown",
   "metadata": {},
   "source": [
    "Действия распределены равномерно"
   ]
  },
  {
   "cell_type": "markdown",
   "metadata": {
    "id": "zGm5-x-PwCNM"
   },
   "source": [
    "# изучаем обращение к конкурентам"
   ]
  },
  {
   "cell_type": "code",
   "execution_count": 9,
   "metadata": {
    "colab": {
     "base_uri": "https://localhost:8080/",
     "height": 424
    },
    "id": "fvbQFFvSwH_U",
    "outputId": "56d9bdce-dd1c-4a57-bf99-95db83f8c4f4"
   },
   "outputs": [
    {
     "data": {
      "text/html": [
       "<div>\n",
       "<style scoped>\n",
       "    .dataframe tbody tr th:only-of-type {\n",
       "        vertical-align: middle;\n",
       "    }\n",
       "\n",
       "    .dataframe tbody tr th {\n",
       "        vertical-align: top;\n",
       "    }\n",
       "\n",
       "    .dataframe thead th {\n",
       "        text-align: right;\n",
       "    }\n",
       "</style>\n",
       "<table border=\"1\" class=\"dataframe\">\n",
       "  <thead>\n",
       "    <tr style=\"text-align: right;\">\n",
       "      <th></th>\n",
       "      <th>event_date</th>\n",
       "      <th>event_type</th>\n",
       "      <th>contract_id</th>\n",
       "    </tr>\n",
       "  </thead>\n",
       "  <tbody>\n",
       "    <tr>\n",
       "      <th>0</th>\n",
       "      <td>2021-04-17</td>\n",
       "      <td>webmail.sampo.ru</td>\n",
       "      <td>101397</td>\n",
       "    </tr>\n",
       "    <tr>\n",
       "      <th>1</th>\n",
       "      <td>2021-04-17</td>\n",
       "      <td>webmail.sampo.ru</td>\n",
       "      <td>179624</td>\n",
       "    </tr>\n",
       "    <tr>\n",
       "      <th>2</th>\n",
       "      <td>2021-04-17</td>\n",
       "      <td>tvip-provision.sampo.ru</td>\n",
       "      <td>190335</td>\n",
       "    </tr>\n",
       "    <tr>\n",
       "      <th>3</th>\n",
       "      <td>2021-04-17</td>\n",
       "      <td>tvip-provision.sampo.ru</td>\n",
       "      <td>61670</td>\n",
       "    </tr>\n",
       "    <tr>\n",
       "      <th>4</th>\n",
       "      <td>2021-04-17</td>\n",
       "      <td>tvip-provision.sampo.ru</td>\n",
       "      <td>39370</td>\n",
       "    </tr>\n",
       "    <tr>\n",
       "      <th>...</th>\n",
       "      <td>...</td>\n",
       "      <td>...</td>\n",
       "      <td>...</td>\n",
       "    </tr>\n",
       "    <tr>\n",
       "      <th>10646530</th>\n",
       "      <td>2021-04-01</td>\n",
       "      <td>camera.rt.ru</td>\n",
       "      <td>186461</td>\n",
       "    </tr>\n",
       "    <tr>\n",
       "      <th>10646531</th>\n",
       "      <td>2021-04-01</td>\n",
       "      <td>camera.rt.ru</td>\n",
       "      <td>18785</td>\n",
       "    </tr>\n",
       "    <tr>\n",
       "      <th>10646534</th>\n",
       "      <td>2021-04-01</td>\n",
       "      <td>camera.rt.ru</td>\n",
       "      <td>67986</td>\n",
       "    </tr>\n",
       "    <tr>\n",
       "      <th>10646535</th>\n",
       "      <td>2021-04-01</td>\n",
       "      <td>camera.rt.ru</td>\n",
       "      <td>31576</td>\n",
       "    </tr>\n",
       "    <tr>\n",
       "      <th>10646536</th>\n",
       "      <td>2021-04-01</td>\n",
       "      <td>camera.rt.ru</td>\n",
       "      <td>108400</td>\n",
       "    </tr>\n",
       "  </tbody>\n",
       "</table>\n",
       "<p>9393249 rows × 3 columns</p>\n",
       "</div>"
      ],
      "text/plain": [
       "         event_date               event_type  contract_id\n",
       "0        2021-04-17         webmail.sampo.ru       101397\n",
       "1        2021-04-17         webmail.sampo.ru       179624\n",
       "2        2021-04-17  tvip-provision.sampo.ru       190335\n",
       "3        2021-04-17  tvip-provision.sampo.ru        61670\n",
       "4        2021-04-17  tvip-provision.sampo.ru        39370\n",
       "...             ...                      ...          ...\n",
       "10646530 2021-04-01             camera.rt.ru       186461\n",
       "10646531 2021-04-01             camera.rt.ru        18785\n",
       "10646534 2021-04-01             camera.rt.ru        67986\n",
       "10646535 2021-04-01             camera.rt.ru        31576\n",
       "10646536 2021-04-01             camera.rt.ru       108400\n",
       "\n",
       "[9393249 rows x 3 columns]"
      ]
     },
     "execution_count": 9,
     "metadata": {},
     "output_type": "execute_result"
    }
   ],
   "source": [
    "outer_actions"
   ]
  },
  {
   "cell_type": "code",
   "execution_count": 10,
   "metadata": {
    "colab": {
     "base_uri": "https://localhost:8080/"
    },
    "id": "5RZ0pUkIwQIA",
    "outputId": "87420660-84ac-4572-a252-84b212662ccf"
   },
   "outputs": [
    {
     "data": {
      "text/plain": [
       "9830192   2021-03-26\n",
       "9705577   2021-03-26\n",
       "9705573   2021-03-26\n",
       "9705572   2021-03-26\n",
       "9705571   2021-03-26\n",
       "             ...    \n",
       "7271361   2021-04-30\n",
       "7271360   2021-04-30\n",
       "7271359   2021-04-30\n",
       "7271368   2021-04-30\n",
       "836048    2021-04-30\n",
       "Name: event_date, Length: 9393249, dtype: datetime64[ns]"
      ]
     },
     "execution_count": 10,
     "metadata": {},
     "output_type": "execute_result"
    }
   ],
   "source": [
    "outer_actions.event_date.sort_values()"
   ]
  },
  {
   "cell_type": "markdown",
   "metadata": {},
   "source": [
    "Временной промежуток - 2 месяца"
   ]
  },
  {
   "cell_type": "code",
   "execution_count": 11,
   "metadata": {
    "colab": {
     "base_uri": "https://localhost:8080/"
    },
    "id": "hcG1QNFAwYJ1",
    "outputId": "66d2bbf0-55a0-435c-cd13-fbec7a89b5ea"
   },
   "outputs": [
    {
     "data": {
      "text/plain": [
       "((196115,), (195,))"
      ]
     },
     "execution_count": 11,
     "metadata": {},
     "output_type": "execute_result"
    }
   ],
   "source": [
    "np.unique(outer_actions.contract_id).shape, np.unique(outer_actions.event_type).shape"
   ]
  },
  {
   "cell_type": "markdown",
   "metadata": {},
   "source": [
    "Намного больше данных и пользователей указано при обращении к внешним источникам"
   ]
  },
  {
   "cell_type": "code",
   "execution_count": 12,
   "metadata": {
    "colab": {
     "base_uri": "https://localhost:8080/"
    },
    "id": "4NGvcQhDwoSI",
    "outputId": "e64eaa93-c8cc-4d45-8646-c67af2d2818c"
   },
   "outputs": [
    {
     "data": {
      "text/html": [
       "<div>\n",
       "<style scoped>\n",
       "    .dataframe tbody tr th:only-of-type {\n",
       "        vertical-align: middle;\n",
       "    }\n",
       "\n",
       "    .dataframe tbody tr th {\n",
       "        vertical-align: top;\n",
       "    }\n",
       "\n",
       "    .dataframe thead th {\n",
       "        text-align: right;\n",
       "    }\n",
       "</style>\n",
       "<table border=\"1\" class=\"dataframe\">\n",
       "  <thead>\n",
       "    <tr style=\"text-align: right;\">\n",
       "      <th></th>\n",
       "      <th>Количество событий</th>\n",
       "    </tr>\n",
       "  </thead>\n",
       "  <tbody>\n",
       "    <tr>\n",
       "      <th>camera.rt.ru</th>\n",
       "      <td>7333195</td>\n",
       "    </tr>\n",
       "    <tr>\n",
       "      <th>vmxott.svc.iptv.rt.ru</th>\n",
       "      <td>289876</td>\n",
       "    </tr>\n",
       "    <tr>\n",
       "      <th>tvip-provision.sampo.ru</th>\n",
       "      <td>138944</td>\n",
       "    </tr>\n",
       "    <tr>\n",
       "      <th>webmail.sampo.ru</th>\n",
       "      <td>132718</td>\n",
       "    </tr>\n",
       "    <tr>\n",
       "      <th>statserv.sampo.ru</th>\n",
       "      <td>110428</td>\n",
       "    </tr>\n",
       "    <tr>\n",
       "      <th>...</th>\n",
       "      <td>...</td>\n",
       "    </tr>\n",
       "    <tr>\n",
       "      <th>karelkniga.sampo.ru</th>\n",
       "      <td>2</td>\n",
       "    </tr>\n",
       "    <tr>\n",
       "      <th>id.rt.ru</th>\n",
       "      <td>2</td>\n",
       "    </tr>\n",
       "    <tr>\n",
       "      <th>chelyabinsk.rt.ru</th>\n",
       "      <td>2</td>\n",
       "    </tr>\n",
       "    <tr>\n",
       "      <th>igmar.sampo.ru</th>\n",
       "      <td>1</td>\n",
       "    </tr>\n",
       "    <tr>\n",
       "      <th>www.karelkniga.sampo.ru</th>\n",
       "      <td>1</td>\n",
       "    </tr>\n",
       "  </tbody>\n",
       "</table>\n",
       "<p>195 rows × 1 columns</p>\n",
       "</div>"
      ],
      "text/plain": [
       "                         Количество событий\n",
       "camera.rt.ru                        7333195\n",
       "vmxott.svc.iptv.rt.ru                289876\n",
       "tvip-provision.sampo.ru              138944\n",
       "webmail.sampo.ru                     132718\n",
       "statserv.sampo.ru                    110428\n",
       "...                                     ...\n",
       "karelkniga.sampo.ru                       2\n",
       "id.rt.ru                                  2\n",
       "chelyabinsk.rt.ru                         2\n",
       "igmar.sampo.ru                            1\n",
       "www.karelkniga.sampo.ru                   1\n",
       "\n",
       "[195 rows x 1 columns]"
      ]
     },
     "execution_count": 12,
     "metadata": {},
     "output_type": "execute_result"
    }
   ],
   "source": [
    "pd.DataFrame(outer_actions.event_type.value_counts().rename('Количество событий'))"
   ]
  },
  {
   "cell_type": "markdown",
   "metadata": {},
   "source": [
    "Много запросов к прямому конкуренту - sampo.ru"
   ]
  },
  {
   "cell_type": "markdown",
   "metadata": {},
   "source": [
    "# Распределение целевого признака"
   ]
  },
  {
   "cell_type": "code",
   "execution_count": 13,
   "metadata": {},
   "outputs": [
    {
     "data": {
      "text/html": [
       "<div>\n",
       "<style scoped>\n",
       "    .dataframe tbody tr th:only-of-type {\n",
       "        vertical-align: middle;\n",
       "    }\n",
       "\n",
       "    .dataframe tbody tr th {\n",
       "        vertical-align: top;\n",
       "    }\n",
       "\n",
       "    .dataframe thead th {\n",
       "        text-align: right;\n",
       "    }\n",
       "</style>\n",
       "<table border=\"1\" class=\"dataframe\">\n",
       "  <thead>\n",
       "    <tr style=\"text-align: right;\">\n",
       "      <th></th>\n",
       "      <th>contract_id</th>\n",
       "      <th>blocked</th>\n",
       "    </tr>\n",
       "  </thead>\n",
       "  <tbody>\n",
       "    <tr>\n",
       "      <th>0</th>\n",
       "      <td>7780</td>\n",
       "      <td>0</td>\n",
       "    </tr>\n",
       "    <tr>\n",
       "      <th>1</th>\n",
       "      <td>7785</td>\n",
       "      <td>0</td>\n",
       "    </tr>\n",
       "    <tr>\n",
       "      <th>2</th>\n",
       "      <td>7794</td>\n",
       "      <td>0</td>\n",
       "    </tr>\n",
       "    <tr>\n",
       "      <th>3</th>\n",
       "      <td>7795</td>\n",
       "      <td>0</td>\n",
       "    </tr>\n",
       "    <tr>\n",
       "      <th>4</th>\n",
       "      <td>7798</td>\n",
       "      <td>0</td>\n",
       "    </tr>\n",
       "    <tr>\n",
       "      <th>...</th>\n",
       "      <td>...</td>\n",
       "      <td>...</td>\n",
       "    </tr>\n",
       "    <tr>\n",
       "      <th>5987</th>\n",
       "      <td>274601</td>\n",
       "      <td>1</td>\n",
       "    </tr>\n",
       "    <tr>\n",
       "      <th>5988</th>\n",
       "      <td>274710</td>\n",
       "      <td>1</td>\n",
       "    </tr>\n",
       "    <tr>\n",
       "      <th>5989</th>\n",
       "      <td>274782</td>\n",
       "      <td>1</td>\n",
       "    </tr>\n",
       "    <tr>\n",
       "      <th>5990</th>\n",
       "      <td>274786</td>\n",
       "      <td>1</td>\n",
       "    </tr>\n",
       "    <tr>\n",
       "      <th>5991</th>\n",
       "      <td>274918</td>\n",
       "      <td>1</td>\n",
       "    </tr>\n",
       "  </tbody>\n",
       "</table>\n",
       "<p>5992 rows × 2 columns</p>\n",
       "</div>"
      ],
      "text/plain": [
       "      contract_id  blocked\n",
       "0            7780        0\n",
       "1            7785        0\n",
       "2            7794        0\n",
       "3            7795        0\n",
       "4            7798        0\n",
       "...           ...      ...\n",
       "5987       274601        1\n",
       "5988       274710        1\n",
       "5989       274782        1\n",
       "5990       274786        1\n",
       "5991       274918        1\n",
       "\n",
       "[5992 rows x 2 columns]"
      ]
     },
     "execution_count": 13,
     "metadata": {},
     "output_type": "execute_result"
    }
   ],
   "source": [
    "train"
   ]
  },
  {
   "cell_type": "markdown",
   "metadata": {},
   "source": [
    "Таблица представляет из себя лишь значения контракта и факт ухода / нет. Не особо много информации"
   ]
  },
  {
   "cell_type": "code",
   "execution_count": 14,
   "metadata": {
    "colab": {
     "base_uri": "https://localhost:8080/"
    },
    "id": "sDNIsxFdxaDa",
    "outputId": "23f6dcaa-4f9c-46de-f564-add0832ce418"
   },
   "outputs": [
    {
     "data": {
      "text/plain": [
       "0    5294\n",
       "1     698\n",
       "Name: blocked, dtype: int64"
      ]
     },
     "execution_count": 14,
     "metadata": {},
     "output_type": "execute_result"
    }
   ],
   "source": [
    "train.blocked.value_counts()"
   ]
  },
  {
   "cell_type": "code",
   "execution_count": 15,
   "metadata": {},
   "outputs": [
    {
     "data": {
      "text/plain": [
       "Text(0.5, 1.0, 'Распределение целевого класса')"
      ]
     },
     "execution_count": 15,
     "metadata": {},
     "output_type": "execute_result"
    },
    {
     "data": {
      "image/png": "[encoded data removed]",
      "text/plain": [
       "<Figure size 720x720 with 1 Axes>"
      ]
     },
     "metadata": {},
     "output_type": "display_data"
    }
   ],
   "source": [
    "plt.figure(figsize = (10, 10))\n",
    "pie_chart_data = pd.DataFrame(train.blocked.value_counts()).reset_index()\n",
    "pie_chart_data.columns = ['Ушел', 'blocked']\n",
    "pie_chart_data['Ушел'] = ['Остались', 'Ушли']\n",
    "plt.pie(x = pie_chart_data['blocked'], labels = pie_chart_data['Ушел'], autopct='%1.1f%%', textprops={'fontsize': 18})\n",
    "plt.title('Распределение целевого класса', fontsize = 24)"
   ]
  },
  {
   "cell_type": "markdown",
   "metadata": {},
   "source": [
    "Дисбаланс в пользу оставшихся. Посмотрим пользователей, по кому совсем нет данных"
   ]
  },
  {
   "cell_type": "code",
   "execution_count": 16,
   "metadata": {
    "colab": {
     "base_uri": "https://localhost:8080/"
    },
    "id": "AanOAXdsxosn",
    "outputId": "f4a7cdbc-c316-44ee-8d74-1a78301a7434"
   },
   "outputs": [
    {
     "data": {
      "text/plain": [
       "3809"
      ]
     },
     "execution_count": 16,
     "metadata": {},
     "output_type": "execute_result"
    }
   ],
   "source": [
    "train_with_inner_actions = train.loc[train.contract_id.isin(inner_actions.contract_id)].contract_id\n",
    "len(train_with_inner_actions)"
   ]
  },
  {
   "cell_type": "code",
   "execution_count": 17,
   "metadata": {
    "colab": {
     "base_uri": "https://localhost:8080/"
    },
    "id": "F60em8MgzEB5",
    "outputId": "abc96f05-e334-43ad-83ec-803a2d690a22"
   },
   "outputs": [
    {
     "data": {
      "text/plain": [
       "2882"
      ]
     },
     "execution_count": 17,
     "metadata": {},
     "output_type": "execute_result"
    }
   ],
   "source": [
    "train_with_outer_actions = train.loc[train.contract_id.isin(outer_actions.contract_id)].contract_id\n",
    "len(train_with_outer_actions)"
   ]
  },
  {
   "cell_type": "code",
   "execution_count": 18,
   "metadata": {
    "colab": {
     "base_uri": "https://localhost:8080/",
     "height": 282
    },
    "id": "C-dtLOF_AdYc",
    "outputId": "5f9f643a-14fd-47e1-ddf5-1fc88518a676"
   },
   "outputs": [
    {
     "data": {
      "text/plain": [
       "[<matplotlib.lines.Line2D at 0x22b0702c250>]"
      ]
     },
     "execution_count": 18,
     "metadata": {},
     "output_type": "execute_result"
    },
    {
     "data": {
      "image/png": "[encoded data removed]",
      "text/plain": [
       "<Figure size 720x360 with 1 Axes>"
      ]
     },
     "metadata": {
      "needs_background": "light"
     },
     "output_type": "display_data"
    }
   ],
   "source": [
    "no_data = train.loc[~train.contract_id.isin(set(train_with_inner_actions).union(set(train_with_outer_actions)))] \n",
    "\n",
    "plt.figure(figsize = (10, 5))\n",
    "plt.title('Распределение целевого события для пользователей без данных')\n",
    "plt.vlines(55e3, -0.2, 1.2, colors = 'red', label = 'Начало Странных id')\n",
    "plt.xlabel('id пользователя')\n",
    "plt.ylabel('Целевое событие (1 - ушел, 0 - остался)')\n",
    "plt.legend(loc = 'upper right')\n",
    "plt.plot(no_data.contract_id, no_data.blocked)"
   ]
  },
  {
   "cell_type": "markdown",
   "metadata": {},
   "source": [
    "Странное распределение - после 60 тысячного айдишника Начинаются одни положительные классы. Возможно, ошибка в данных"
   ]
  },
  {
   "cell_type": "code",
   "execution_count": 19,
   "metadata": {},
   "outputs": [
    {
     "data": {
      "text/plain": [
       "Text(0.5, 1.0, 'Распределение наличия данных у пользователей')"
      ]
     },
     "execution_count": 19,
     "metadata": {},
     "output_type": "execute_result"
    },
    {
     "data": {
      "image/png": "[encoded data removed]",
      "text/plain": [
       "<Figure size 720x720 with 1 Axes>"
      ]
     },
     "metadata": {},
     "output_type": "display_data"
    }
   ],
   "source": [
    "plt.figure(figsize = (10, 10))\n",
    "data = [train_with_inner_actions.shape[0], train_with_outer_actions.shape[0], no_data.shape[0]]\n",
    "labels = ['Есть информация о внутренних действиях', 'Есть информация о внешних действиях', 'Вообще нет данных']\n",
    "plt.pie(x = data, labels = labels, autopct='%1.1f%%', textprops={'fontsize': 18})\n",
    "plt.title('Распределение наличия данных у пользователей', fontsize = 24)"
   ]
  },
  {
   "cell_type": "code",
   "execution_count": 20,
   "metadata": {
    "colab": {
     "base_uri": "https://localhost:8080/"
    },
    "id": "Fw4caDDBBcUi",
    "outputId": "e0bbd2cd-c133-4ce7-87d1-f404f1aea11e"
   },
   "outputs": [
    {
     "data": {
      "text/plain": [
       "0    1109\n",
       "1     139\n",
       "Name: blocked, dtype: int64"
      ]
     },
     "execution_count": 20,
     "metadata": {},
     "output_type": "execute_result"
    }
   ],
   "source": [
    "no_data.blocked.value_counts()"
   ]
  },
  {
   "cell_type": "code",
   "execution_count": 21,
   "metadata": {
    "colab": {
     "base_uri": "https://localhost:8080/",
     "height": 424
    },
    "id": "Vl7wgqx8BP_3",
    "outputId": "b57ad05c-1f9d-4f4f-daf4-5dfcc7ac82e7"
   },
   "outputs": [
    {
     "data": {
      "text/plain": [
       "1    111\n",
       "Name: blocked, dtype: int64"
      ]
     },
     "execution_count": 21,
     "metadata": {},
     "output_type": "execute_result"
    }
   ],
   "source": [
    "no_data.loc[no_data.contract_id > 6e4].blocked.value_counts()"
   ]
  },
  {
   "cell_type": "markdown",
   "metadata": {},
   "source": [
    "Может очень сильно повлиять на результат работы. Тем более, что на 1250 человек совсем нет никаких данных - и как с ними работать?"
   ]
  },
  {
   "cell_type": "markdown",
   "metadata": {
    "id": "UbZauCZD-F_o"
   },
   "source": [
    "Странности с contract_id"
   ]
  },
  {
   "cell_type": "code",
   "execution_count": 22,
   "metadata": {
    "colab": {
     "base_uri": "https://localhost:8080/",
     "height": 112
    },
    "id": "x_6FepjI-Nsz",
    "outputId": "d6a6c0fd-235f-4a7f-ab75-6d2e0c4c6a73"
   },
   "outputs": [
    {
     "data": {
      "text/html": [
       "<div>\n",
       "<style scoped>\n",
       "    .dataframe tbody tr th:only-of-type {\n",
       "        vertical-align: middle;\n",
       "    }\n",
       "\n",
       "    .dataframe tbody tr th {\n",
       "        vertical-align: top;\n",
       "    }\n",
       "\n",
       "    .dataframe thead th {\n",
       "        text-align: right;\n",
       "    }\n",
       "</style>\n",
       "<table border=\"1\" class=\"dataframe\">\n",
       "  <thead>\n",
       "    <tr style=\"text-align: right;\">\n",
       "      <th></th>\n",
       "      <th>contract_id</th>\n",
       "      <th>blocked</th>\n",
       "    </tr>\n",
       "  </thead>\n",
       "  <tbody>\n",
       "    <tr>\n",
       "      <th>contract_id</th>\n",
       "      <td>1.000000</td>\n",
       "      <td>0.794684</td>\n",
       "    </tr>\n",
       "    <tr>\n",
       "      <th>blocked</th>\n",
       "      <td>0.794684</td>\n",
       "      <td>1.000000</td>\n",
       "    </tr>\n",
       "  </tbody>\n",
       "</table>\n",
       "</div>"
      ],
      "text/plain": [
       "             contract_id   blocked\n",
       "contract_id     1.000000  0.794684\n",
       "blocked         0.794684  1.000000"
      ]
     },
     "execution_count": 22,
     "metadata": {},
     "output_type": "execute_result"
    }
   ],
   "source": [
    "train.corr()"
   ]
  },
  {
   "cell_type": "markdown",
   "metadata": {},
   "source": [
    "Из-за проблем с айдишниками есть ложная корреляция"
   ]
  },
  {
   "cell_type": "markdown",
   "metadata": {
    "id": "3z_gzMa6_BYw"
   },
   "source": [
    "Смотрим на тестовую"
   ]
  },
  {
   "cell_type": "code",
   "execution_count": 23,
   "metadata": {
    "colab": {
     "base_uri": "https://localhost:8080/"
    },
    "id": "0Gzi9HhO_Dlu",
    "outputId": "5eeca271-218c-4357-95cd-0b215012c243"
   },
   "outputs": [
    {
     "data": {
      "text/plain": [
       "0      3453\n",
       "1      3454\n",
       "2      3455\n",
       "3      3456\n",
       "4      3457\n",
       "       ... \n",
       "805    4258\n",
       "806    4259\n",
       "807    4260\n",
       "808    4261\n",
       "809    4262\n",
       "Name: contract_id, Length: 810, dtype: int64"
      ]
     },
     "execution_count": 23,
     "metadata": {},
     "output_type": "execute_result"
    }
   ],
   "source": [
    "sample.contract_id.sort_values()"
   ]
  },
  {
   "cell_type": "markdown",
   "metadata": {},
   "source": [
    "Все данные из тестовой выборки идут до данных с тренировочной выборки. Надеюсь, что проблема их не зацепила"
   ]
  },
  {
   "cell_type": "markdown",
   "metadata": {
    "id": "c2RndToV0BzH"
   },
   "source": [
    "type_contract"
   ]
  },
  {
   "cell_type": "code",
   "execution_count": 24,
   "metadata": {
    "colab": {
     "base_uri": "https://localhost:8080/",
     "height": 424
    },
    "id": "h2UBfwLP0ECI",
    "outputId": "1f8201be-2860-4d87-f09b-5db1e60ba44a"
   },
   "outputs": [
    {
     "data": {
      "text/html": [
       "<div>\n",
       "<style scoped>\n",
       "    .dataframe tbody tr th:only-of-type {\n",
       "        vertical-align: middle;\n",
       "    }\n",
       "\n",
       "    .dataframe tbody tr th {\n",
       "        vertical-align: top;\n",
       "    }\n",
       "\n",
       "    .dataframe thead th {\n",
       "        text-align: right;\n",
       "    }\n",
       "</style>\n",
       "<table border=\"1\" class=\"dataframe\">\n",
       "  <thead>\n",
       "    <tr style=\"text-align: right;\">\n",
       "      <th></th>\n",
       "      <th>contract_id</th>\n",
       "      <th>day_or_month_contract</th>\n",
       "    </tr>\n",
       "  </thead>\n",
       "  <tbody>\n",
       "    <tr>\n",
       "      <th>0</th>\n",
       "      <td>7780</td>\n",
       "      <td>0</td>\n",
       "    </tr>\n",
       "    <tr>\n",
       "      <th>1</th>\n",
       "      <td>3996</td>\n",
       "      <td>0</td>\n",
       "    </tr>\n",
       "    <tr>\n",
       "      <th>2</th>\n",
       "      <td>7785</td>\n",
       "      <td>0</td>\n",
       "    </tr>\n",
       "    <tr>\n",
       "      <th>3</th>\n",
       "      <td>7794</td>\n",
       "      <td>0</td>\n",
       "    </tr>\n",
       "    <tr>\n",
       "      <th>4</th>\n",
       "      <td>7795</td>\n",
       "      <td>1</td>\n",
       "    </tr>\n",
       "    <tr>\n",
       "      <th>...</th>\n",
       "      <td>...</td>\n",
       "      <td>...</td>\n",
       "    </tr>\n",
       "    <tr>\n",
       "      <th>6800</th>\n",
       "      <td>3503</td>\n",
       "      <td>1</td>\n",
       "    </tr>\n",
       "    <tr>\n",
       "      <th>6801</th>\n",
       "      <td>3589</td>\n",
       "      <td>0</td>\n",
       "    </tr>\n",
       "    <tr>\n",
       "      <th>6802</th>\n",
       "      <td>4261</td>\n",
       "      <td>0</td>\n",
       "    </tr>\n",
       "    <tr>\n",
       "      <th>6803</th>\n",
       "      <td>4118</td>\n",
       "      <td>1</td>\n",
       "    </tr>\n",
       "    <tr>\n",
       "      <th>6804</th>\n",
       "      <td>3843</td>\n",
       "      <td>1</td>\n",
       "    </tr>\n",
       "  </tbody>\n",
       "</table>\n",
       "<p>6805 rows × 2 columns</p>\n",
       "</div>"
      ],
      "text/plain": [
       "      contract_id  day_or_month_contract\n",
       "0            7780                      0\n",
       "1            3996                      0\n",
       "2            7785                      0\n",
       "3            7794                      0\n",
       "4            7795                      1\n",
       "...           ...                    ...\n",
       "6800         3503                      1\n",
       "6801         3589                      0\n",
       "6802         4261                      0\n",
       "6803         4118                      1\n",
       "6804         3843                      1\n",
       "\n",
       "[6805 rows x 2 columns]"
      ]
     },
     "execution_count": 24,
     "metadata": {},
     "output_type": "execute_result"
    }
   ],
   "source": [
    "type_contract"
   ]
  },
  {
   "cell_type": "markdown",
   "metadata": {},
   "source": [
    "Ничего особенного - тип контракта"
   ]
  },
  {
   "cell_type": "code",
   "execution_count": 25,
   "metadata": {},
   "outputs": [
    {
     "data": {
      "text/plain": [
       "0    4022\n",
       "1    2783\n",
       "Name: day_or_month_contract, dtype: int64"
      ]
     },
     "execution_count": 25,
     "metadata": {},
     "output_type": "execute_result"
    }
   ],
   "source": [
    "type_contract.day_or_month_contract.value_counts()"
   ]
  },
  {
   "cell_type": "markdown",
   "metadata": {},
   "source": [
    "Почти даже и равномерно распределены"
   ]
  },
  {
   "cell_type": "code",
   "execution_count": 26,
   "metadata": {},
   "outputs": [
    {
     "data": {
      "text/html": [
       "<div>\n",
       "<style scoped>\n",
       "    .dataframe tbody tr th:only-of-type {\n",
       "        vertical-align: middle;\n",
       "    }\n",
       "\n",
       "    .dataframe tbody tr th {\n",
       "        vertical-align: top;\n",
       "    }\n",
       "\n",
       "    .dataframe thead th {\n",
       "        text-align: right;\n",
       "    }\n",
       "</style>\n",
       "<table border=\"1\" class=\"dataframe\">\n",
       "  <thead>\n",
       "    <tr style=\"text-align: right;\">\n",
       "      <th></th>\n",
       "      <th>contract_id</th>\n",
       "      <th>day_or_month_contract</th>\n",
       "    </tr>\n",
       "  </thead>\n",
       "  <tbody>\n",
       "    <tr>\n",
       "      <th>0</th>\n",
       "      <td>7780</td>\n",
       "      <td>0</td>\n",
       "    </tr>\n",
       "    <tr>\n",
       "      <th>2</th>\n",
       "      <td>7785</td>\n",
       "      <td>0</td>\n",
       "    </tr>\n",
       "    <tr>\n",
       "      <th>3</th>\n",
       "      <td>7794</td>\n",
       "      <td>0</td>\n",
       "    </tr>\n",
       "    <tr>\n",
       "      <th>4</th>\n",
       "      <td>7795</td>\n",
       "      <td>1</td>\n",
       "    </tr>\n",
       "    <tr>\n",
       "      <th>5</th>\n",
       "      <td>7798</td>\n",
       "      <td>0</td>\n",
       "    </tr>\n",
       "    <tr>\n",
       "      <th>...</th>\n",
       "      <td>...</td>\n",
       "      <td>...</td>\n",
       "    </tr>\n",
       "    <tr>\n",
       "      <th>6693</th>\n",
       "      <td>274601</td>\n",
       "      <td>1</td>\n",
       "    </tr>\n",
       "    <tr>\n",
       "      <th>6694</th>\n",
       "      <td>274710</td>\n",
       "      <td>0</td>\n",
       "    </tr>\n",
       "    <tr>\n",
       "      <th>6695</th>\n",
       "      <td>274782</td>\n",
       "      <td>0</td>\n",
       "    </tr>\n",
       "    <tr>\n",
       "      <th>6696</th>\n",
       "      <td>274786</td>\n",
       "      <td>1</td>\n",
       "    </tr>\n",
       "    <tr>\n",
       "      <th>6697</th>\n",
       "      <td>274918</td>\n",
       "      <td>0</td>\n",
       "    </tr>\n",
       "  </tbody>\n",
       "</table>\n",
       "<p>5991 rows × 2 columns</p>\n",
       "</div>"
      ],
      "text/plain": [
       "      contract_id  day_or_month_contract\n",
       "0            7780                      0\n",
       "2            7785                      0\n",
       "3            7794                      0\n",
       "4            7795                      1\n",
       "5            7798                      0\n",
       "...           ...                    ...\n",
       "6693       274601                      1\n",
       "6694       274710                      0\n",
       "6695       274782                      0\n",
       "6696       274786                      1\n",
       "6697       274918                      0\n",
       "\n",
       "[5991 rows x 2 columns]"
      ]
     },
     "execution_count": 26,
     "metadata": {},
     "output_type": "execute_result"
    }
   ],
   "source": [
    "type_contract.loc[type_contract.contract_id.isin(train.contract_id)]"
   ]
  },
  {
   "cell_type": "markdown",
   "metadata": {},
   "source": [
    "Почти для всех есть это значение"
   ]
  },
  {
   "cell_type": "code",
   "execution_count": 27,
   "metadata": {},
   "outputs": [
    {
     "data": {
      "text/plain": [
       "<matplotlib.legend.Legend at 0x22b06df4e80>"
      ]
     },
     "execution_count": 27,
     "metadata": {},
     "output_type": "execute_result"
    },
    {
     "data": {
      "image/png": "[encoded data removed]",
      "text/plain": [
       "<Figure size 432x288 with 1 Axes>"
      ]
     },
     "metadata": {
      "needs_background": "light"
     },
     "output_type": "display_data"
    }
   ],
   "source": [
    "contract_with_train = type_contract.merge(train, how = 'left', on = 'contract_id')\n",
    "plt.hist(contract_with_train.loc[contract_with_train.day_or_month_contract == 0].blocked, label = 'daily', density = True, alpha = 0.5)\n",
    "plt.hist(contract_with_train.loc[contract_with_train.day_or_month_contract == 1].blocked, align = 'right',\n",
    "         label = 'monthly', density = True, alpha = 0.5)\n",
    "plt.legend(loc = 'upper right')"
   ]
  },
  {
   "cell_type": "markdown",
   "metadata": {},
   "source": [
    "Распределения ушедших одинаково почти"
   ]
  },
  {
   "cell_type": "code",
   "execution_count": 28,
   "metadata": {},
   "outputs": [
    {
     "data": {
      "text/plain": [
       "<matplotlib.legend.Legend at 0x22b06dfafa0>"
      ]
     },
     "execution_count": 28,
     "metadata": {},
     "output_type": "execute_result"
    },
    {
     "data": {
      "image/png": "[encoded data removed]",
      "text/plain": [
       "<Figure size 432x288 with 1 Axes>"
      ]
     },
     "metadata": {
      "needs_background": "light"
     },
     "output_type": "display_data"
    }
   ],
   "source": [
    "contract_with_train = type_contract.merge(train, how = 'left', on = 'contract_id')\n",
    "contract_with_train = contract_with_train.loc[contract_with_train.contract_id.isin(no_data.contract_id)]\n",
    "plt.hist(contract_with_train.loc[contract_with_train.day_or_month_contract == 0].blocked, label = 'daily', density = True, alpha = 0.5)\n",
    "plt.hist(contract_with_train.loc[contract_with_train.day_or_month_contract == 1].blocked, align = 'right',\n",
    "         label = 'monthly', density = True, alpha = 0.5)\n",
    "plt.legend(loc = 'upper right')"
   ]
  },
  {
   "cell_type": "markdown",
   "metadata": {},
   "source": [
    "Для пользователей без информации ситуация критична - различий нет в принципе."
   ]
  },
  {
   "cell_type": "markdown",
   "metadata": {
    "id": "4QbPtKO0A-ue"
   },
   "source": [
    "# test data"
   ]
  },
  {
   "cell_type": "code",
   "execution_count": 29,
   "metadata": {
    "colab": {
     "base_uri": "https://localhost:8080/",
     "height": 424
    },
    "id": "5RMTQOx2BDJN",
    "outputId": "c1fdd2bc-e12a-4527-c0b0-8e08ae400ef9"
   },
   "outputs": [
    {
     "data": {
      "text/html": [
       "<div>\n",
       "<style scoped>\n",
       "    .dataframe tbody tr th:only-of-type {\n",
       "        vertical-align: middle;\n",
       "    }\n",
       "\n",
       "    .dataframe tbody tr th {\n",
       "        vertical-align: top;\n",
       "    }\n",
       "\n",
       "    .dataframe thead th {\n",
       "        text-align: right;\n",
       "    }\n",
       "</style>\n",
       "<table border=\"1\" class=\"dataframe\">\n",
       "  <thead>\n",
       "    <tr style=\"text-align: right;\">\n",
       "      <th></th>\n",
       "      <th>contract_id</th>\n",
       "      <th>blocked</th>\n",
       "    </tr>\n",
       "  </thead>\n",
       "  <tbody>\n",
       "    <tr>\n",
       "      <th>0</th>\n",
       "      <td>3453</td>\n",
       "      <td>-1</td>\n",
       "    </tr>\n",
       "    <tr>\n",
       "      <th>1</th>\n",
       "      <td>3454</td>\n",
       "      <td>-1</td>\n",
       "    </tr>\n",
       "    <tr>\n",
       "      <th>2</th>\n",
       "      <td>3455</td>\n",
       "      <td>-1</td>\n",
       "    </tr>\n",
       "    <tr>\n",
       "      <th>3</th>\n",
       "      <td>3456</td>\n",
       "      <td>-1</td>\n",
       "    </tr>\n",
       "    <tr>\n",
       "      <th>4</th>\n",
       "      <td>3457</td>\n",
       "      <td>-1</td>\n",
       "    </tr>\n",
       "    <tr>\n",
       "      <th>...</th>\n",
       "      <td>...</td>\n",
       "      <td>...</td>\n",
       "    </tr>\n",
       "    <tr>\n",
       "      <th>805</th>\n",
       "      <td>4258</td>\n",
       "      <td>-1</td>\n",
       "    </tr>\n",
       "    <tr>\n",
       "      <th>806</th>\n",
       "      <td>4259</td>\n",
       "      <td>-1</td>\n",
       "    </tr>\n",
       "    <tr>\n",
       "      <th>807</th>\n",
       "      <td>4260</td>\n",
       "      <td>-1</td>\n",
       "    </tr>\n",
       "    <tr>\n",
       "      <th>808</th>\n",
       "      <td>4261</td>\n",
       "      <td>-1</td>\n",
       "    </tr>\n",
       "    <tr>\n",
       "      <th>809</th>\n",
       "      <td>4262</td>\n",
       "      <td>-1</td>\n",
       "    </tr>\n",
       "  </tbody>\n",
       "</table>\n",
       "<p>810 rows × 2 columns</p>\n",
       "</div>"
      ],
      "text/plain": [
       "     contract_id  blocked\n",
       "0           3453       -1\n",
       "1           3454       -1\n",
       "2           3455       -1\n",
       "3           3456       -1\n",
       "4           3457       -1\n",
       "..           ...      ...\n",
       "805         4258       -1\n",
       "806         4259       -1\n",
       "807         4260       -1\n",
       "808         4261       -1\n",
       "809         4262       -1\n",
       "\n",
       "[810 rows x 2 columns]"
      ]
     },
     "execution_count": 29,
     "metadata": {},
     "output_type": "execute_result"
    }
   ],
   "source": [
    "sample"
   ]
  },
  {
   "cell_type": "code",
   "execution_count": 30,
   "metadata": {
    "colab": {
     "base_uri": "https://localhost:8080/"
    },
    "id": "KD3Gr8z-BFZV",
    "outputId": "2e8ba59c-18da-41cb-ac99-df77e301d5c5"
   },
   "outputs": [
    {
     "data": {
      "text/plain": [
       "(502, 390)"
      ]
     },
     "execution_count": 30,
     "metadata": {},
     "output_type": "execute_result"
    }
   ],
   "source": [
    "sum(sample.contract_id.isin(inner_actions.contract_id)), sum(sample.contract_id.isin(outer_actions.contract_id))"
   ]
  },
  {
   "cell_type": "code",
   "execution_count": 31,
   "metadata": {
    "colab": {
     "base_uri": "https://localhost:8080/"
    },
    "id": "PFYWPyWN_15Y",
    "outputId": "65903e11-9977-43dc-f68f-fe5f38fe8b30"
   },
   "outputs": [
    {
     "data": {
      "text/plain": [
       "652"
      ]
     },
     "execution_count": 31,
     "metadata": {},
     "output_type": "execute_result"
    }
   ],
   "source": [
    "len(set(sample.loc[sample.contract_id.isin(inner_actions.contract_id)].contract_id).union(set(sample.loc[sample.contract_id.isin(outer_actions.contract_id)].contract_id)))"
   ]
  },
  {
   "cell_type": "markdown",
   "metadata": {},
   "source": [
    "У 150 пользователей из теста нет никакой информации по логам или конкурентам. Так же не удастстя их предсказать по типу контракта. Кошмар."
   ]
  },
  {
   "cell_type": "markdown",
   "metadata": {
    "id": "vaxPqJrlxb9J"
   },
   "source": [
    "# Train"
   ]
  },
  {
   "cell_type": "markdown",
   "metadata": {
    "id": "hEgRt6jJ0ocT"
   },
   "source": [
    "# named for train"
   ]
  },
  {
   "cell_type": "code",
   "execution_count": 32,
   "metadata": {
    "colab": {
     "base_uri": "https://localhost:8080/",
     "height": 424
    },
    "id": "2T9TVzXK-pq3",
    "outputId": "52818291-b431-4668-c613-4421a99bffcc"
   },
   "outputs": [
    {
     "data": {
      "text/html": [
       "<div>\n",
       "<style scoped>\n",
       "    .dataframe tbody tr th:only-of-type {\n",
       "        vertical-align: middle;\n",
       "    }\n",
       "\n",
       "    .dataframe tbody tr th {\n",
       "        vertical-align: top;\n",
       "    }\n",
       "\n",
       "    .dataframe thead th {\n",
       "        text-align: right;\n",
       "    }\n",
       "</style>\n",
       "<table border=\"1\" class=\"dataframe\">\n",
       "  <thead>\n",
       "    <tr style=\"text-align: right;\">\n",
       "      <th></th>\n",
       "      <th>event_date</th>\n",
       "      <th>event_type</th>\n",
       "      <th>contract_id</th>\n",
       "    </tr>\n",
       "  </thead>\n",
       "  <tbody>\n",
       "    <tr>\n",
       "      <th>61</th>\n",
       "      <td>2021-04-17</td>\n",
       "      <td>moigorod.sampo.ru</td>\n",
       "      <td>27891</td>\n",
       "    </tr>\n",
       "    <tr>\n",
       "      <th>62</th>\n",
       "      <td>2021-04-17</td>\n",
       "      <td>moigorod.sampo.ru</td>\n",
       "      <td>27891</td>\n",
       "    </tr>\n",
       "    <tr>\n",
       "      <th>63</th>\n",
       "      <td>2021-04-17</td>\n",
       "      <td>profile.sampo.ru</td>\n",
       "      <td>27891</td>\n",
       "    </tr>\n",
       "    <tr>\n",
       "      <th>64</th>\n",
       "      <td>2021-04-17</td>\n",
       "      <td>profile.sampo.ru</td>\n",
       "      <td>27891</td>\n",
       "    </tr>\n",
       "    <tr>\n",
       "      <th>65</th>\n",
       "      <td>2021-04-17</td>\n",
       "      <td>ohrana.sampo.ru</td>\n",
       "      <td>27891</td>\n",
       "    </tr>\n",
       "    <tr>\n",
       "      <th>...</th>\n",
       "      <td>...</td>\n",
       "      <td>...</td>\n",
       "      <td>...</td>\n",
       "    </tr>\n",
       "    <tr>\n",
       "      <th>10645464</th>\n",
       "      <td>2021-03-31</td>\n",
       "      <td>sz-mrsk-itv01.svc.iptv.rt.ru</td>\n",
       "      <td>31215</td>\n",
       "    </tr>\n",
       "    <tr>\n",
       "      <th>10645836</th>\n",
       "      <td>2021-03-31</td>\n",
       "      <td>numbers.cloudpbx.rt.ru</td>\n",
       "      <td>49479</td>\n",
       "    </tr>\n",
       "    <tr>\n",
       "      <th>10646087</th>\n",
       "      <td>2021-03-31</td>\n",
       "      <td>petrozavodsk.speedtest.rt.ru</td>\n",
       "      <td>14456</td>\n",
       "    </tr>\n",
       "    <tr>\n",
       "      <th>10646100</th>\n",
       "      <td>2021-03-31</td>\n",
       "      <td>petrozavodsk.speedtest.rt.ru</td>\n",
       "      <td>46919</td>\n",
       "    </tr>\n",
       "    <tr>\n",
       "      <th>10646231</th>\n",
       "      <td>2021-04-01</td>\n",
       "      <td>sz-ptzv-itv01.svc.iptv.rt.ru</td>\n",
       "      <td>50921</td>\n",
       "    </tr>\n",
       "  </tbody>\n",
       "</table>\n",
       "<p>123751 rows × 3 columns</p>\n",
       "</div>"
      ],
      "text/plain": [
       "         event_date                    event_type  contract_id\n",
       "61       2021-04-17             moigorod.sampo.ru        27891\n",
       "62       2021-04-17             moigorod.sampo.ru        27891\n",
       "63       2021-04-17              profile.sampo.ru        27891\n",
       "64       2021-04-17              profile.sampo.ru        27891\n",
       "65       2021-04-17               ohrana.sampo.ru        27891\n",
       "...             ...                           ...          ...\n",
       "10645464 2021-03-31  sz-mrsk-itv01.svc.iptv.rt.ru        31215\n",
       "10645836 2021-03-31        numbers.cloudpbx.rt.ru        49479\n",
       "10646087 2021-03-31  petrozavodsk.speedtest.rt.ru        14456\n",
       "10646100 2021-03-31  petrozavodsk.speedtest.rt.ru        46919\n",
       "10646231 2021-04-01  sz-ptzv-itv01.svc.iptv.rt.ru        50921\n",
       "\n",
       "[123751 rows x 3 columns]"
      ]
     },
     "execution_count": 32,
     "metadata": {},
     "output_type": "execute_result"
    }
   ],
   "source": [
    "outer_actions.loc[outer_actions.contract_id.isin(train.contract_id.values)]"
   ]
  },
  {
   "cell_type": "code",
   "execution_count": 33,
   "metadata": {
    "colab": {
     "base_uri": "https://localhost:8080/",
     "height": 424
    },
    "id": "Fmv8EfBm0rmB",
    "outputId": "24ed803a-3971-4c94-aed3-2dd5de061776"
   },
   "outputs": [
    {
     "data": {
      "text/html": [
       "<div>\n",
       "<style scoped>\n",
       "    .dataframe tbody tr th:only-of-type {\n",
       "        vertical-align: middle;\n",
       "    }\n",
       "\n",
       "    .dataframe tbody tr th {\n",
       "        vertical-align: top;\n",
       "    }\n",
       "\n",
       "    .dataframe thead th {\n",
       "        text-align: right;\n",
       "    }\n",
       "</style>\n",
       "<table border=\"1\" class=\"dataframe\">\n",
       "  <thead>\n",
       "    <tr style=\"text-align: right;\">\n",
       "      <th></th>\n",
       "      <th>event_date</th>\n",
       "      <th>event_type</th>\n",
       "      <th>contract_id</th>\n",
       "      <th>blocked</th>\n",
       "      <th>day_of_year</th>\n",
       "    </tr>\n",
       "  </thead>\n",
       "  <tbody>\n",
       "    <tr>\n",
       "      <th>0</th>\n",
       "      <td>2021-04-17</td>\n",
       "      <td>moigorod.sampo.ru</td>\n",
       "      <td>27891</td>\n",
       "      <td>0</td>\n",
       "      <td>107</td>\n",
       "    </tr>\n",
       "    <tr>\n",
       "      <th>1</th>\n",
       "      <td>2021-04-17</td>\n",
       "      <td>moigorod.sampo.ru</td>\n",
       "      <td>27891</td>\n",
       "      <td>0</td>\n",
       "      <td>107</td>\n",
       "    </tr>\n",
       "    <tr>\n",
       "      <th>2</th>\n",
       "      <td>2021-04-17</td>\n",
       "      <td>profile.sampo.ru</td>\n",
       "      <td>27891</td>\n",
       "      <td>0</td>\n",
       "      <td>107</td>\n",
       "    </tr>\n",
       "    <tr>\n",
       "      <th>3</th>\n",
       "      <td>2021-04-17</td>\n",
       "      <td>profile.sampo.ru</td>\n",
       "      <td>27891</td>\n",
       "      <td>0</td>\n",
       "      <td>107</td>\n",
       "    </tr>\n",
       "    <tr>\n",
       "      <th>4</th>\n",
       "      <td>2021-04-17</td>\n",
       "      <td>ohrana.sampo.ru</td>\n",
       "      <td>27891</td>\n",
       "      <td>0</td>\n",
       "      <td>107</td>\n",
       "    </tr>\n",
       "    <tr>\n",
       "      <th>...</th>\n",
       "      <td>...</td>\n",
       "      <td>...</td>\n",
       "      <td>...</td>\n",
       "      <td>...</td>\n",
       "      <td>...</td>\n",
       "    </tr>\n",
       "    <tr>\n",
       "      <th>123746</th>\n",
       "      <td>2021-03-31</td>\n",
       "      <td>rt-static.rt.ru</td>\n",
       "      <td>49248</td>\n",
       "      <td>0</td>\n",
       "      <td>90</td>\n",
       "    </tr>\n",
       "    <tr>\n",
       "      <th>123747</th>\n",
       "      <td>2021-03-31</td>\n",
       "      <td>fnc.rt.ru</td>\n",
       "      <td>161029</td>\n",
       "      <td>1</td>\n",
       "      <td>90</td>\n",
       "    </tr>\n",
       "    <tr>\n",
       "      <th>123748</th>\n",
       "      <td>2021-03-31</td>\n",
       "      <td>fnc.rt.ru</td>\n",
       "      <td>161029</td>\n",
       "      <td>1</td>\n",
       "      <td>90</td>\n",
       "    </tr>\n",
       "    <tr>\n",
       "      <th>123749</th>\n",
       "      <td>2021-03-31</td>\n",
       "      <td>wink.rt.ru</td>\n",
       "      <td>14720</td>\n",
       "      <td>0</td>\n",
       "      <td>90</td>\n",
       "    </tr>\n",
       "    <tr>\n",
       "      <th>123750</th>\n",
       "      <td>2021-03-31</td>\n",
       "      <td>fnc.rt.ru</td>\n",
       "      <td>48679</td>\n",
       "      <td>0</td>\n",
       "      <td>90</td>\n",
       "    </tr>\n",
       "  </tbody>\n",
       "</table>\n",
       "<p>123751 rows × 5 columns</p>\n",
       "</div>"
      ],
      "text/plain": [
       "       event_date         event_type  contract_id  blocked  day_of_year\n",
       "0      2021-04-17  moigorod.sampo.ru        27891        0          107\n",
       "1      2021-04-17  moigorod.sampo.ru        27891        0          107\n",
       "2      2021-04-17   profile.sampo.ru        27891        0          107\n",
       "3      2021-04-17   profile.sampo.ru        27891        0          107\n",
       "4      2021-04-17    ohrana.sampo.ru        27891        0          107\n",
       "...           ...                ...          ...      ...          ...\n",
       "123746 2021-03-31    rt-static.rt.ru        49248        0           90\n",
       "123747 2021-03-31          fnc.rt.ru       161029        1           90\n",
       "123748 2021-03-31          fnc.rt.ru       161029        1           90\n",
       "123749 2021-03-31         wink.rt.ru        14720        0           90\n",
       "123750 2021-03-31          fnc.rt.ru        48679        0           90\n",
       "\n",
       "[123751 rows x 5 columns]"
      ]
     },
     "execution_count": 33,
     "metadata": {},
     "output_type": "execute_result"
    }
   ],
   "source": [
    "outer_actions_in_train = outer_actions_in_train.merge(train, on = 'contract_id')\n",
    "outer_actions_in_train['day_of_year'] = outer_actions_in_train.event_date.dt.day_of_year\n",
    "outer_actions_in_train"
   ]
  },
  {
   "cell_type": "code",
   "execution_count": 34,
   "metadata": {
    "colab": {
     "base_uri": "https://localhost:8080/",
     "height": 297
    },
    "id": "KOHAY6Nk10Cf",
    "outputId": "50f0eae1-4dfd-4c12-dfa5-475ea466ba01"
   },
   "outputs": [
    {
     "data": {
      "text/plain": [
       "<matplotlib.axes._subplots.AxesSubplot at 0x22b0728d9d0>"
      ]
     },
     "execution_count": 34,
     "metadata": {},
     "output_type": "execute_result"
    },
    {
     "data": {
      "image/png": "[encoded data removed]",
      "text/plain": [
       "<Figure size 432x288 with 1 Axes>"
      ]
     },
     "metadata": {
      "needs_background": "light"
     },
     "output_type": "display_data"
    }
   ],
   "source": [
    "sns.histplot(data = outer_actions_in_train, x = 'day_of_year', hue = 'blocked')"
   ]
  },
  {
   "cell_type": "markdown",
   "metadata": {},
   "source": [
    "В начале двух месяцев активность ушедших пользователей была намного выше"
   ]
  },
  {
   "cell_type": "code",
   "execution_count": 35,
   "metadata": {},
   "outputs": [
    {
     "data": {
      "text/plain": [
       "7245691   2021-04-29\n",
       "826531    2021-04-29\n",
       "825234    2021-04-29\n",
       "825235    2021-04-29\n",
       "825236    2021-04-29\n",
       "             ...    \n",
       "9815116   2021-03-26\n",
       "9813133   2021-03-26\n",
       "9813132   2021-03-26\n",
       "9813131   2021-03-26\n",
       "1144142   2021-03-26\n",
       "Name: event_date, Length: 15172, dtype: datetime64[ns]"
      ]
     },
     "execution_count": 35,
     "metadata": {},
     "output_type": "execute_result"
    }
   ],
   "source": [
    "outer_actions.loc[outer_actions.contract_id.isin(sample.contract_id)].event_date.sort_values(ascending = False)"
   ]
  },
  {
   "cell_type": "markdown",
   "metadata": {},
   "source": [
    "Хотя бы период дат совпадает"
   ]
  },
  {
   "cell_type": "code",
   "execution_count": 36,
   "metadata": {
    "colab": {
     "base_uri": "https://localhost:8080/"
    },
    "id": "yBPnfRPZ4f3t",
    "outputId": "a1cdfcd2-622d-441f-deb2-35eed849c75e"
   },
   "outputs": [
    {
     "data": {
      "text/plain": [
       "((120322, 5), (3429, 5))"
      ]
     },
     "execution_count": 36,
     "metadata": {},
     "output_type": "execute_result"
    }
   ],
   "source": [
    "# среднее число откликов по ушедшим и нет\n",
    "\n",
    "(outer_actions_in_train.loc[outer_actions_in_train.blocked == 0].shape, \n",
    " outer_actions_in_train.loc[outer_actions_in_train.blocked == 1].shape)"
   ]
  },
  {
   "cell_type": "markdown",
   "metadata": {},
   "source": [
    "Окей, неушедших, очевидно, больше по кликам"
   ]
  },
  {
   "cell_type": "markdown",
   "metadata": {},
   "source": [
    "# Вывод"
   ]
  },
  {
   "cell_type": "markdown",
   "metadata": {},
   "source": [
    "Очень странные данные. Для 10 - 15 % пользователей нет данных в принципе и как для них что-то предсказывать - неясно. Наибольшую ценность может представлять информация о логах и обращениям к внешним ресурсам, но количество данных слишком велико к количеству пользователей, поэтому стоит использовать какие-то методы объединения сущностей."
   ]
  }
 ],
 "metadata": {
  "colab": {
   "provenance": []
  },
  "kernelspec": {
   "display_name": "Python 3",
   "language": "python",
   "name": "python3"
  },
  "language_info": {
   "codemirror_mode": {
    "name": "ipython",
    "version": 3
   },
   "file_extension": ".py",
   "mimetype": "text/x-python",
   "name": "python",
   "nbconvert_exporter": "python",
   "pygments_lexer": "ipython3",
   "version": "3.8.3"
  }
 },
 "nbformat": 4,
 "nbformat_minor": 1
}
